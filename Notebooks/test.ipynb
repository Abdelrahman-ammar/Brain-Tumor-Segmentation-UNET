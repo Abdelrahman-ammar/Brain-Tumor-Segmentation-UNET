version https://git-lfs.github.com/spec/v1
oid sha256:de3141c91a976d93f187dad7b5b4bf16df557fd41039981d7dd62dd4dd481894
size 141408
